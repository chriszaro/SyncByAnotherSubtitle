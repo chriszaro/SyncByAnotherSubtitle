{
 "cells": [
  {
   "cell_type": "code",
   "execution_count": 54,
   "id": "4b14a346-c0a0-48d0-9540-9e89f9499af3",
   "metadata": {},
   "outputs": [
    {
     "name": "stdout",
     "output_type": "stream",
     "text": [
      "EXECUTED\n"
     ]
    }
   ],
   "source": [
    "import re\n",
    "\n",
    "fileInSync=\"Salem.S03E03.1080p.AMZN.WEBRip.DD5.1.x264-TrollHD_eng.srt\"\n",
    "timestampsIN = []\n",
    "\n",
    "fileOutOfSync=\"salem-s03e03-hdtv-x264-killers.srt\"\n",
    "subsIN = []\n",
    "\n",
    "fileOUT=\"output.srt\"\n",
    "\n",
    "with open(fileInSync, 'r+', encoding='UTF-8') as f:\n",
    "    f.readline()  # Read and discard the first line\n",
    "    data = f.read()  # Read the remaining content\n",
    "    f.seek(0)  # Move the file pointer to the beginning\n",
    "    f.write(\"1\\n\")\n",
    "    f.write(data)  # Write the remaining content back to the file\n",
    "    f.truncate()  # Remove any extra data at the end\n",
    "\n",
    "with open(fileInSync, 'r', encoding='UTF-8') as f:\n",
    "        times = f.readlines()\n",
    "\n",
    "with open(fileOutOfSync, 'r', encoding='UTF-8') as f:\n",
    "        subs = f.readlines()\n",
    "\n",
    "text1=''.join(times)\n",
    "blocks1 = text1.split('\\n\\n')\n",
    "blocks1.pop(-1)\n",
    "\n",
    "text2=''.join(subs)\n",
    "blocks2 = text2.split('\\n\\n')\n",
    "blocks2.pop(-1)\n",
    "\n",
    "for i in range (0, len(blocks1)):\n",
    "    tim = blocks1[i].split('\\n',2)\n",
    "    sub = blocks2[i].split('\\n',2)\n",
    "    # print(lines)\n",
    "    timestampsIN.append(tim[1]+'\\n')\n",
    "    subsIN.append(sub[2]+'\\n')\n",
    "\n",
    "with open(fileOUT, 'w', encoding='UTF-8') as f:\n",
    "    for i in range (0, len(timestampsIN)):\n",
    "        f.write(f\"{i+1}\\n\")\n",
    "        f.write(timestampsIN[i])\n",
    "        f.write(subsIN[i])\n",
    "        f.write(\"\\n\")\n",
    "\n",
    "print(\"EXECUTED\")"
   ]
  },
  {
   "cell_type": "code",
   "execution_count": null,
   "id": "4a0d6e74-a72b-467f-9f8e-2c6b5627b481",
   "metadata": {},
   "outputs": [],
   "source": []
  },
  {
   "cell_type": "code",
   "execution_count": null,
   "id": "57121875-97ef-4466-9bfe-7ac385420ab2",
   "metadata": {},
   "outputs": [],
   "source": []
  }
 ],
 "metadata": {
  "kernelspec": {
   "display_name": "Python 3 (ipykernel)",
   "language": "python",
   "name": "python3"
  },
  "language_info": {
   "codemirror_mode": {
    "name": "ipython",
    "version": 3
   },
   "file_extension": ".py",
   "mimetype": "text/x-python",
   "name": "python",
   "nbconvert_exporter": "python",
   "pygments_lexer": "ipython3",
   "version": "3.9.18"
  }
 },
 "nbformat": 4,
 "nbformat_minor": 5
}
